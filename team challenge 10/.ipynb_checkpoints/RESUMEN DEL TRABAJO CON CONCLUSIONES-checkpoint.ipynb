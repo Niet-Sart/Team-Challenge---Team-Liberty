{
 "cells": [
  {
   "cell_type": "markdown",
   "id": "3e32e681-a789-4d83-9614-b6d9a6af992e",
   "metadata": {},
   "source": [
    "### RESUMEN DEL PROCESO"
   ]
  },
  {
   "cell_type": "markdown",
   "id": "0fb2c6d8-8af3-4c2d-9404-85f927b11f90",
   "metadata": {},
   "source": [
    "Objetivo del Trabajo:\n",
    "\n",
    "El objetivo principal de este trabajo es predecir las ventas de zapatillas en función de diversas variables. En este caso, la variable objetivo elegida es RevenueUSD, ya que es una medida directa de las ventas (en dólares) y facilita la predicción.\n",
    "\n",
    "Descripción del Dataset:\n",
    "\n",
    "El dataset contiene las siguientes columnas:\n",
    " * 1.\tVariables categóricas: mes, región, categoría, subcategoría, producto de línea, porcentaje vendido online.\n",
    " * 2.\tVariables numéricas: precio, unidades vendidas, ventas en dólares (RevenueUSD).\n",
    "\n",
    "**Método de Análisis:**\n",
    "\n",
    "Identificación de Tipos de Variables:\n",
    "    \n",
    "Se implementó una función para identificar los tipos de datos de las columnas del DataFrame. Esto permitió distinguir entre variables categóricas y numéricas, además de identificar cuáles eran numéricas continuas o discretas.\n",
    "\n",
    "Correlación entre Variables Numéricas y Objetivo:\n",
    "    \n",
    "Se creó una función para seleccionar las columnas numéricas del DataFrame, con el objetivo de analizar las correlaciones con la variable objetivo RevenueUSD. Para esto, se utilizó un umbral de correlación para identificar las variables que mejor se correlacionan con las ventas.\n",
    "Se encontró que las variables con mayor correlación son:\n",
    "* Units Sold (unidades vendidas)\n",
    "* Retail Price (precio de venta)\n",
    "Se generaron gráficos scatterplot para visualizar la relación entre estas variables y la variable objetivo. En ambos gráficos, se observa una distribución lineal, lo que sugiere que el precio de venta y las unidades vendidas tienen una relación directa con las ventas.\n",
    "\n",
    "Análisis de Variables Categóricas:\n",
    "\n",
    "Se implementó una función para identificar las columnas categóricas y luego se realizó una prueba de ANOVA o Kruskal-Wallis (dependiendo de la naturaleza de los datos) para estudiar su relación con la variable objetivo.\n",
    "Los resultados indicaron que la subcategoría de producto tiene una relación significativa con RevenueUSD, destacando que algunas subcategorías como Bag y Shocks presentan picos significativos en las distribuciones de ventas.\n",
    "Aunque se intentó representar esta información mediante un histograma, la visualización resultó algo borrosa debido a la gran cantidad de categorías dentro de subcategoría. Sin embargo, el análisis mostró que algunas subcategorías tienen picos en las ventas que podrían ser clave para predecir el comportamiento de las ventas.\n",
    "\n",
    "**Conclusiones del Análisis**:\n",
    "\n",
    "*\tRelación con Variables Numéricas:\n",
    "Las variables unidades vendidas y precio de venta son las más relevantes para predecir las ventas (RevenueUSD), ya que ambas muestran una fuerte correlación con las ventas en dólares.\n",
    "*\tImpacto de Variables Categóricas:\n",
    "La variable subcategoría tiene una relación significativa con las ventas. A pesar de que el análisis mediante el histograma no fue completamente claro debido a la dispersión de las categorías, algunas subcategorías como Vox y Sox se destacaron y podrían ser útiles en el modelo predictivo.\n",
    "*\tUso de Técnicas Estadísticas:\n",
    "Al no poder utilizar la correlación de Pearson para las variables categóricas, se utilizaron pruebas estadísticas como ANOVA y Kruskal-Wallis para comprobar las relaciones entre las variables categóricas y la variable objetivo, lo que permitió identificar qué categorías influyen significativamente en las ventas.\n",
    "\n",
    "**Próximos Pasos:**\n",
    "* 1.\tConsiderar la inclusión de las variables subcategoría (como Bag y Shocks) en los modelos predictivos, dado su impacto significativo.\n",
    "* 2.\tMejorar la visualización de las distribuciones de las subcategorías mediante técnicas adicionales para facilitar la interpretación.\n",
    "* 3.\tImplementar un modelo de Machine Learning utilizando las variables más relevantes (unidades vendidas, precio de venta, subcategoría) para predecir con mayor precisión las ventas futuras.\n",
    "\n",
    "**Conclusión General:**\n",
    "\n",
    "El trabajo realizado permite sentar las bases para predecir las ventas de zapatillas de forma efectiva. Las variables unidades vendidas y precio de venta son las más influyentes, mientras que las subcategorías también presentan un impacto significativo, lo que abre la puerta a modelos más complejos que integren tanto variables numéricas como categóricas."
   ]
  },
  {
   "cell_type": "code",
   "execution_count": null,
   "id": "f8ca6235-4b5d-4cb0-a213-ed0d66fec19a",
   "metadata": {},
   "outputs": [],
   "source": []
  }
 ],
 "metadata": {
  "kernelspec": {
   "display_name": "Python 3 (ipykernel)",
   "language": "python",
   "name": "python3"
  },
  "language_info": {
   "codemirror_mode": {
    "name": "ipython",
    "version": 3
   },
   "file_extension": ".py",
   "mimetype": "text/x-python",
   "name": "python",
   "nbconvert_exporter": "python",
   "pygments_lexer": "ipython3",
   "version": "3.12.5"
  }
 },
 "nbformat": 4,
 "nbformat_minor": 5
}
