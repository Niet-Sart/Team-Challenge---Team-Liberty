{
 "cells": [
  {
   "cell_type": "code",
   "execution_count": 1,
   "metadata": {},
   "outputs": [
    {
     "name": "stdout",
     "output_type": "stream",
     "text": [
      "           nombre_variable      tipo_sugerido\n",
      "0                    Month  Numerica Discreta\n",
      "1                   Region         Categorica\n",
      "2            Main_Category         Categorica\n",
      "3             Sub_Category  Numerica Discreta\n",
      "4             Product_Line  Numerica Discreta\n",
      "5               Price_Tier         Categorica\n",
      "6               Units_Sold  Numerica Continua\n",
      "7              Revenue_USD  Numerica Continua\n",
      "8  Online_Sales_Percentage  Numerica Discreta\n",
      "9             Retail_Price  Numerica Discreta\n"
     ]
    }
   ],
   "source": [
    "import pandas as pd\n",
    "\n",
    "def tipifica_variables(df, umbral_categoria, umbral_continua):\n",
    "    \"\"\"\n",
    "    Classify columns into variable types based on cardinality and thresholds.\n",
    "\n",
    "    Arguments:\n",
    "    df (pd.DataFrame): Input dataframe.\n",
    "    umbral_categoria (int): Threshold for categorical variables.\n",
    "    umbral_continua (float): Threshold for continuous variables.\n",
    "\n",
    "    Returns:\n",
    "    pd.DataFrame: Dataframe with variable names and suggested types.\n",
    "    \"\"\"\n",
    "    results = []\n",
    "    for col in df.columns:\n",
    "        cardinality = df[col].nunique()\n",
    "        cardinality_percentage = cardinality / len(df)\n",
    "\n",
    "        if cardinality == 2:\n",
    "            tipo = \"Binaria\"\n",
    "        elif cardinality < umbral_categoria:\n",
    "            tipo = \"Categorica\"\n",
    "        elif cardinality_percentage >= umbral_continua:\n",
    "            tipo = \"Numerica Continua\"\n",
    "        else:\n",
    "            tipo = \"Numerica Discreta\"\n",
    "\n",
    "        results.append({\"nombre_variable\": col, \"tipo_sugerido\": tipo})\n",
    "\n",
    "    return pd.DataFrame(results)\n",
    "\n",
    "# Ejemplo de uso\n",
    "if __name__ == \"__main__\":\n",
    "    # Carga del archivo Excel\n",
    "    file_path = \"C:/Users/Jesus/Documents/DS_Online_Octubre24_Exercises/04_Machine_Learning/Sprint_10/Team_Challenge/nike_sales_2024.xlsx\"\n",
    "    df_nike = pd.read_excel(file_path)\n",
    "\n",
    "    # Parámetros de prueba\n",
    "    umbral_categoria = 25\n",
    "    umbral_continua = 0.1\n",
    "\n",
    "    # Aplicar la función\n",
    "    resultado = tipifica_variables(df_nike, umbral_categoria, umbral_continua)\n",
    "    print(resultado)\n"
   ]
  }
 ],
 "metadata": {
  "kernelspec": {
   "display_name": "Python 3",
   "language": "python",
   "name": "python3"
  },
  "language_info": {
   "codemirror_mode": {
    "name": "ipython",
    "version": 3
   },
   "file_extension": ".py",
   "mimetype": "text/x-python",
   "name": "python",
   "nbconvert_exporter": "python",
   "pygments_lexer": "ipython3",
   "version": "3.13.0"
  }
 },
 "nbformat": 4,
 "nbformat_minor": 2
}
